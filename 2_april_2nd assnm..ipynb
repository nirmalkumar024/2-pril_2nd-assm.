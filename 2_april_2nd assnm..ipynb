{
 "cells": [
  {
   "cell_type": "markdown",
   "id": "5bdcccf5-2376-4725-9073-515603b7797e",
   "metadata": {},
   "source": [
    "Q1. What is the purpose of grid search cv in machine learning, and how does it work?"
   ]
  },
  {
   "cell_type": "markdown",
   "id": "1f4136fd-544b-41f8-8133-8fe4caca7fc9",
   "metadata": {},
   "source": [
    "GridSearchCV is a scikit-learn function that performs hyperparameter tuning by training and evaluating a machine learning model using different combinations of hyperparameters. The best set of hyperparameters is then selected based on a specified performance metric."
   ]
  },
  {
   "cell_type": "markdown",
   "id": "ed600a7f-d291-42b7-af70-64ea0dadea4d",
   "metadata": {},
   "source": [
    "Q2. Describe the difference between grid search cv and randomize search cv, and when might you choose\n",
    "one over the other?"
   ]
  },
  {
   "cell_type": "markdown",
   "id": "0f0b926c-9c57-4056-8757-15bc4c676714",
   "metadata": {},
   "source": [
    " Random Search CV prioritizes exploration by randomly sampling combinations, whereas Grid Search CV exhaustively evaluates all combinations. The former allows for wider exploration, while the latter guarantees a thorough search within the specified grid.\n",
    " \n",
    "Grid search can search a large number of hyperparameters, but it can become computationally expensive as the number of hyperparameters increases. Random search, on the other hand, can search a larger number of hyperparameters without becoming too computationally expensive, as it samples hyperparameters randomly."
   ]
  },
  {
   "cell_type": "markdown",
   "id": "65f51a7b-1df5-4f81-b1a8-46157c547703",
   "metadata": {},
   "source": [
    "Q3. What is data leakage, and why is it a problem in machine learning? Provide an example."
   ]
  },
  {
   "cell_type": "markdown",
   "id": "fb4b5286-482a-4671-bd22-df73b53e8952",
   "metadata": {},
   "source": [
    "The unauthorized transmission of data from an organization to any external source is known as data leakage. This data can be leaked physically or electronically via hard drives, USB devices, mobile phones, etc., and could be exposed publicly or fall into the hands of a cyber criminal.\n",
    "\n",
    "n short, data leakage in machine learning is a term used to describe a case where the data used to train an algorithm includes unexpected additional information about the subject it's evaluating. Essentially, it happens when information from outside a desired training data set helps to create a model."
   ]
  },
  {
   "cell_type": "markdown",
   "id": "cecc0f72-00f5-49a6-a06c-e817c8f64416",
   "metadata": {},
   "source": [
    "Q4. How can you prevent data leakage when building a machine learning model?"
   ]
  },
  {
   "cell_type": "markdown",
   "id": "621aef99-986e-481a-9502-326abf3e4372",
   "metadata": {},
   "source": [
    " Split your data into training, validation, and testing sets at an early stage of your pipeline before performing any preprocessing or feature extraction. This ensures that the split is done before any information from the testing set is inadvertently used during model development."
   ]
  },
  {
   "cell_type": "markdown",
   "id": "15771f70-a9c2-4e5b-b52e-d20cfc54a8be",
   "metadata": {},
   "source": [
    "Q5. What is a confusion matrix, and what does it tell you about the performance of a classification model?"
   ]
  },
  {
   "cell_type": "markdown",
   "id": "f359b292-4a79-492d-8897-831296e379f5",
   "metadata": {},
   "source": [
    "A Confusion matrix is an N x N matrix used for evaluating the performance of a classification model, where N is the total number of target classes.\n",
    "\n",
    "A confusion matrix is a table used in machine learning and statistics to assess the performance of a classification model. It summarizes the results of classification by showing the counts of true positive, true negative, false positive, and false negative predictions."
   ]
  },
  {
   "cell_type": "markdown",
   "id": "7c962d91-dc68-4c8b-8a49-4b174fe8b0df",
   "metadata": {},
   "source": [
    "Q6. Explain the difference between precision and recall in the context of a confusion matrix."
   ]
  },
  {
   "cell_type": "markdown",
   "id": "5fb7a9e7-f94a-431f-8f92-9501064e8765",
   "metadata": {},
   "source": [
    "Precision and recall are two evaluation metrics used to measure the performance of a classifier in binary and multiclass classification problems.\n",
    "\n",
    "Precision measures the accuracy of positive predictions, while recall measures the completeness of positive predictions."
   ]
  },
  {
   "cell_type": "markdown",
   "id": "80557dd2-de20-4a27-b14d-dd63e521a20a",
   "metadata": {},
   "source": [
    "Q7. How can you interpret a confusion matrix to determine which types of errors your model is making?"
   ]
  },
  {
   "cell_type": "markdown",
   "id": "a79d0370-c309-46af-acc9-9fb2fbd6fe43",
   "metadata": {},
   "source": [
    "The confusion matrix shows the number of correct predictions: true positives (TP) and true negatives (TN). It also shows the model errors: false positives (FP) are “false alarms,” and false negatives (FN) are missed cases."
   ]
  },
  {
   "cell_type": "markdown",
   "id": "7f38b992-0a4e-4b5a-a2d7-28923f8ea867",
   "metadata": {},
   "source": [
    "Q8. What are some common metrics that can be derived from a confusion matrix, and how are they calculated?"
   ]
  },
  {
   "cell_type": "markdown",
   "id": "3d2eaddd-9b3a-4c66-8684-78c156c7086a",
   "metadata": {},
   "source": [
    "Various measures, such as error-rate, accuracy, specificity, sensitivity, and precision, are derived from the confusion matrix. Moreover, several advanced measures, such as ROC and precision-recall, are based on them."
   ]
  },
  {
   "cell_type": "markdown",
   "id": "550d5519-7121-4470-a5eb-f68515fa1af0",
   "metadata": {},
   "source": [
    "Q9. What is the relationship between the accuracy of a model and the values in its confusion matrix?"
   ]
  },
  {
   "cell_type": "markdown",
   "id": "d2980911-7af2-41cf-8fcd-f5b38da342a3",
   "metadata": {},
   "source": [
    "This confusion matrix gives a lot of information about the model's performance: As usual, the diagonal elements are the correctly predicted samples. A total of 145 samples were correctly predicted out of the total 191 samples. Thus, the overall accuracy is 75.92%"
   ]
  },
  {
   "cell_type": "code",
   "execution_count": null,
   "id": "3638a14c-c905-427a-9f57-76db17f600ea",
   "metadata": {},
   "outputs": [],
   "source": []
  }
 ],
 "metadata": {
  "kernelspec": {
   "display_name": "Python 3 (ipykernel)",
   "language": "python",
   "name": "python3"
  },
  "language_info": {
   "codemirror_mode": {
    "name": "ipython",
    "version": 3
   },
   "file_extension": ".py",
   "mimetype": "text/x-python",
   "name": "python",
   "nbconvert_exporter": "python",
   "pygments_lexer": "ipython3",
   "version": "3.10.8"
  }
 },
 "nbformat": 4,
 "nbformat_minor": 5
}
